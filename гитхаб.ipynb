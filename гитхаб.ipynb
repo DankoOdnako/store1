{
  "nbformat": 4,
  "nbformat_minor": 0,
  "metadata": {
    "colab": {
      "name": "Untitled0.ipynb",
      "provenance": [],
      "collapsed_sections": []
    },
    "kernelspec": {
      "name": "python3",
      "display_name": "Python 3"
    }
  },
  "cells": [
    {
      "cell_type": "code",
      "metadata": {
        "colab": {
          "base_uri": "https://localhost:8080/"
        },
        "id": "vkL1dVDaOZSX",
        "outputId": "440cc536-cc86-4462-d624-06e30527a1b0"
      },
      "source": [
        " print('hello world')"
      ],
      "execution_count": null,
      "outputs": [
        {
          "output_type": "stream",
          "text": [
            "hello world\n"
          ],
          "name": "stdout"
        }
      ]
    },
    {
      "cell_type": "markdown",
      "metadata": {
        "id": "wFZNwE9-Of5X"
      },
      "source": [
        "Черкасов Даниил, КИ19-23Б"
      ]
    }
  ]
}